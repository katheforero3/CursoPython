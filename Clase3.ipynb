{
  "nbformat": 4,
  "nbformat_minor": 0,
  "metadata": {
    "colab": {
      "provenance": [],
      "authorship_tag": "ABX9TyNR/kR0UFzXbbyprB7MNtXl",
      "include_colab_link": true
    },
    "kernelspec": {
      "name": "python3",
      "display_name": "Python 3"
    },
    "language_info": {
      "name": "python"
    }
  },
  "cells": [
    {
      "cell_type": "markdown",
      "metadata": {
        "id": "view-in-github",
        "colab_type": "text"
      },
      "source": [
        "<a href=\"https://colab.research.google.com/github/katheforero3/CursoPython/blob/main/Clase3.ipynb\" target=\"_parent\"><img src=\"https://colab.research.google.com/assets/colab-badge.svg\" alt=\"Open In Colab\"/></a>"
      ]
    },
    {
      "cell_type": "markdown",
      "source": [
        "**Manejo de errores, ciclos y bucles**\n",
        "\n",
        "Curso Python\n",
        "\n",
        "Unicafam\n",
        "\n",
        "Estudiantes: Katherine Forero\n",
        "\n",
        "Docente: Nicolas Mojica\n",
        "\n",
        "---"
      ],
      "metadata": {
        "id": "UzfivZp8hRLM"
      }
    },
    {
      "cell_type": "code",
      "source": [],
      "metadata": {
        "id": "w2FRufgbhZTk"
      },
      "execution_count": null,
      "outputs": []
    }
  ]
}