{
  "nbformat": 4,
  "nbformat_minor": 0,
  "metadata": {
    "colab": {
      "provenance": [],
      "authorship_tag": "ABX9TyNtg2aRIDVztcJK9z9te29H",
      "include_colab_link": true
    },
    "kernelspec": {
      "name": "python3",
      "display_name": "Python 3"
    },
    "language_info": {
      "name": "python"
    }
  },
  "cells": [
    {
      "cell_type": "markdown",
      "metadata": {
        "id": "view-in-github",
        "colab_type": "text"
      },
      "source": [
        "<a href=\"https://colab.research.google.com/github/katheforero3/CursoPython/blob/main/Clase2.ipynb\" target=\"_parent\"><img src=\"https://colab.research.google.com/assets/colab-badge.svg\" alt=\"Open In Colab\"/></a>"
      ]
    },
    {
      "cell_type": "markdown",
      "source": [
        "**Diccionarios de Datos**\n",
        "\n",
        "Curso Python\n",
        "\n",
        "Unicafam\n",
        "\n",
        "Estudiantes: Katherine Forero\n",
        "\n",
        "Docente: Nicolas Mojica\n",
        "\n",
        "---\n"
      ],
      "metadata": {
        "id": "njadunK5SBen"
      }
    },
    {
      "cell_type": "code",
      "execution_count": null,
      "metadata": {
        "id": "-kHHswjMR0Iy"
      },
      "outputs": [],
      "source": []
    }
  ]
}