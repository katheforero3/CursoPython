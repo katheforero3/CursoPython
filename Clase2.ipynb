{
  "nbformat": 4,
  "nbformat_minor": 0,
  "metadata": {
    "colab": {
      "provenance": [],
      "authorship_tag": "ABX9TyNQBWKvbPw4Z5lf/eiPkU2w",
      "include_colab_link": true
    },
    "kernelspec": {
      "name": "python3",
      "display_name": "Python 3"
    },
    "language_info": {
      "name": "python"
    }
  },
  "cells": [
    {
      "cell_type": "markdown",
      "metadata": {
        "id": "view-in-github",
        "colab_type": "text"
      },
      "source": [
        "<a href=\"https://colab.research.google.com/github/katheforero3/CursoPython/blob/main/Clase2.ipynb\" target=\"_parent\"><img src=\"https://colab.research.google.com/assets/colab-badge.svg\" alt=\"Open In Colab\"/></a>"
      ]
    },
    {
      "cell_type": "markdown",
      "source": [
        "**Condicionales y Funciones**\n",
        "\n",
        "Curso Python\n",
        "\n",
        "Unicafam\n",
        "\n",
        "Estudiantes: Katherine Forero\n",
        "\n",
        "Docente: Nicolas Mojica\n",
        "\n",
        "---\n"
      ],
      "metadata": {
        "id": "njadunK5SBen"
      }
    },
    {
      "cell_type": "code",
      "execution_count": null,
      "metadata": {
        "id": "-kHHswjMR0Iy"
      },
      "outputs": [],
      "source": [
        "#Operadores de Comparación\n",
        "'''\n",
        ": entonces\n",
        "== igual\n",
        "!= diferente\n",
        "< menor que\n",
        "> mayor que\n",
        "<= menor o igual que\n",
        ">= mayor o igual que\n",
        "'''"
      ]
    },
    {
      "cell_type": "code",
      "source": [
        "#Generar un programa que determine si una persona es mayor o menor de edad.\n",
        "edad=15\n",
        "if edad>=18:\n",
        "  print('Eres mayor de edad')\n",
        "else:\n",
        "  print('Eres menor de edad')"
      ],
      "metadata": {
        "colab": {
          "base_uri": "https://localhost:8080/"
        },
        "id": "xgZHPf5ikPuj",
        "outputId": "b6ad3f7b-8668-44ab-b8dc-4d3917cc2a18"
      },
      "execution_count": null,
      "outputs": [
        {
          "output_type": "stream",
          "name": "stdout",
          "text": [
            "Eres menor de edad\n"
          ]
        }
      ]
    },
    {
      "cell_type": "code",
      "source": [
        "#Condiciones anidadas\n",
        "nota=80\n",
        "if nota>=60:\n",
        "  if nota>=90:\n",
        "    print('Calificación alta')\n",
        "  elif nota>=80:\n",
        "    print('Calificación media')\n",
        "  else:\n",
        "    print('Calificación baja')\n",
        "else:\n",
        "  print('No aprobado')"
      ],
      "metadata": {
        "colab": {
          "base_uri": "https://localhost:8080/"
        },
        "id": "vgOZigkYkPn8",
        "outputId": "be65846f-6191-4885-fe34-b51c23b4568b"
      },
      "execution_count": null,
      "outputs": [
        {
          "output_type": "stream",
          "name": "stdout",
          "text": [
            "Calificación media\n"
          ]
        }
      ]
    },
    {
      "cell_type": "code",
      "source": [
        "calificacion=float(input('Introduzca su calificación:'))\n",
        "if calificacion>=60:\n",
        "  print('Aprobado')\n",
        "else:\n",
        "  print('Reprobado')"
      ],
      "metadata": {
        "id": "KYLyPlNekPfk",
        "colab": {
          "base_uri": "https://localhost:8080/"
        },
        "outputId": "69aa0606-d325-40b0-83d8-971a8c063236"
      },
      "execution_count": null,
      "outputs": [
        {
          "output_type": "stream",
          "name": "stdout",
          "text": [
            "Introduzca su calificación:90\n",
            "Aprobado\n"
          ]
        }
      ]
    },
    {
      "cell_type": "code",
      "source": [
        "#Clasifique la edad en diferentes categorias Niño (0-12 años) Adolescente (13-17 Años) Adulto (18-64 Años) y Anciano (65 años o más)\n",
        "edad=int(input('Introduzca su edad:'))\n",
        "if 0<= edad <=12:\n",
        "  print('Niño')\n",
        "elif 13<= edad <=17:\n",
        "    print('Adolescente')\n",
        "elif 18<= edad <=64:\n",
        "    print('Adulto')\n",
        "elif edad>65:\n",
        "    print('Anciano')"
      ],
      "metadata": {
        "colab": {
          "base_uri": "https://localhost:8080/"
        },
        "id": "iVGf1eF2VsfT",
        "outputId": "cd91cf11-0e36-49a3-d481-091b6cdbc9da"
      },
      "execution_count": null,
      "outputs": [
        {
          "output_type": "stream",
          "name": "stdout",
          "text": [
            "Introduzca su edad:25\n",
            "Adulto\n"
          ]
        }
      ]
    },
    {
      "cell_type": "code",
      "source": [
        "#Escriba un programa que pida al usuario una contraseña y verifique si es correcta. La concontraseña correcta es 'secreta123'\n",
        "contraseña_correcta='secreta123'\n",
        "contraseña=input('Introduzca la contraseña:')\n",
        "if contraseña_correcta != contraseña:\n",
        "  print('La contraseña es incorrecta')\n",
        "else:\n",
        "  print('La contraseña es correcta')"
      ],
      "metadata": {
        "colab": {
          "base_uri": "https://localhost:8080/"
        },
        "id": "0b3PU8w9zaq0",
        "outputId": "106417cc-02ea-491b-da8f-a137e22e9e55"
      },
      "execution_count": null,
      "outputs": [
        {
          "output_type": "stream",
          "name": "stdout",
          "text": [
            "Introduzca la contraseña:secreta123\n",
            "La contraseña es correcta\n"
          ]
        }
      ]
    },
    {
      "cell_type": "code",
      "source": [
        "#Crear un programa que lea dos números y determine cual es mayor, cual es menor o si ambos son iguales.\n",
        "primer_numero=int(input('Introduzca el primer número:'))\n",
        "segundo_numero=int(input('Introduzca el segundo número:'))\n",
        "if primer_numero>segundo_numero:\n",
        "  print('El primer número es mayor que el segundo número')\n",
        "elif primer_numero<segundo_numero:\n",
        "  print('El segundo número es mayor que el primer número')\n",
        "else:\n",
        "  print('Ambos números son iguales')"
      ],
      "metadata": {
        "colab": {
          "base_uri": "https://localhost:8080/"
        },
        "id": "3AYYmj8uzahF",
        "outputId": "670cda96-58c8-4404-c16b-8908dabca2e8"
      },
      "execution_count": null,
      "outputs": [
        {
          "output_type": "stream",
          "name": "stdout",
          "text": [
            "Introduzca el primer número:65\n",
            "Introduzca el segundo número:65\n",
            "Ambos números son iguales\n"
          ]
        }
      ]
    },
    {
      "cell_type": "markdown",
      "source": [
        "**Funciones**"
      ],
      "metadata": {
        "id": "QVF6x-qKGhuR"
      }
    },
    {
      "cell_type": "code",
      "source": [
        "#y=mx+b\n",
        "#y=2x+4\n",
        "x=5\n",
        "def recta(x):\n",
        "  return (2*x)+4\n",
        "print(recta(x))"
      ],
      "metadata": {
        "id": "y3Z0mHw8VuN6",
        "colab": {
          "base_uri": "https://localhost:8080/"
        },
        "outputId": "ae86ba1c-798c-49e2-a3b5-ce97fe2f97c6"
      },
      "execution_count": 1,
      "outputs": [
        {
          "output_type": "stream",
          "name": "stdout",
          "text": [
            "14\n"
          ]
        }
      ]
    },
    {
      "cell_type": "code",
      "source": [
        "#Construir una función que genere la suma de dos números\n",
        "def suma(a,b):\n",
        "  return print(a+b)\n",
        "suma(5,20)"
      ],
      "metadata": {
        "colab": {
          "base_uri": "https://localhost:8080/"
        },
        "id": "zjSI3MHD88HL",
        "outputId": "87a4c368-0bdd-4263-c702-64456f4f0949"
      },
      "execution_count": 4,
      "outputs": [
        {
          "output_type": "stream",
          "name": "stdout",
          "text": [
            "25\n"
          ]
        }
      ]
    },
    {
      "cell_type": "code",
      "source": [
        "#Dada dos variables a y b calcular la suma y resta entre estos dos valores\n",
        "def operaciones(a,b):\n",
        "  sumas=a+b\n",
        "  resta=a-b\n",
        "  return sumas,resta\n",
        "sumas,resta=operaciones(12,3)\n",
        "print(f'Suma:{sumas},Resta:{resta}')"
      ],
      "metadata": {
        "colab": {
          "base_uri": "https://localhost:8080/"
        },
        "id": "UaIYeUsl87_K",
        "outputId": "3a085087-6496-472c-a22f-5bdef0eb097f"
      },
      "execution_count": 13,
      "outputs": [
        {
          "output_type": "stream",
          "name": "stdout",
          "text": [
            "Suma:15,Resta:9\n"
          ]
        }
      ]
    },
    {
      "cell_type": "code",
      "source": [
        "#Necesito una función que determine si un número es par o es impar y que envie un mensaje con el resultado de la validación\n",
        "def determinar(numero):\n",
        "\n",
        "  rpta=numero%2 #Modulo\n",
        "  if rpta==1:\n",
        "    print('El número introducido es impar')\n",
        "  else:\n",
        "    print('El número introducido es par')\n",
        "numero=int(input(\"Introduce un número: \"))\n",
        "determinar(numero)"
      ],
      "metadata": {
        "colab": {
          "base_uri": "https://localhost:8080/"
        },
        "id": "8dt6fk5x870S",
        "outputId": "f9cfa17c-6189-42fa-efdf-40cec69a70b4"
      },
      "execution_count": 31,
      "outputs": [
        {
          "output_type": "stream",
          "name": "stdout",
          "text": [
            "Introduce un número: 4\n",
            "El número introducido es par\n"
          ]
        }
      ]
    }
  ]
}