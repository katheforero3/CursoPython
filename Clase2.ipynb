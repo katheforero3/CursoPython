{
  "nbformat": 4,
  "nbformat_minor": 0,
  "metadata": {
    "colab": {
      "provenance": [],
      "authorship_tag": "ABX9TyPAMpRIDgK+ft9AeAlF5SwV",
      "include_colab_link": true
    },
    "kernelspec": {
      "name": "python3",
      "display_name": "Python 3"
    },
    "language_info": {
      "name": "python"
    }
  },
  "cells": [
    {
      "cell_type": "markdown",
      "metadata": {
        "id": "view-in-github",
        "colab_type": "text"
      },
      "source": [
        "<a href=\"https://colab.research.google.com/github/katheforero3/CursoPython/blob/main/Clase2.ipynb\" target=\"_parent\"><img src=\"https://colab.research.google.com/assets/colab-badge.svg\" alt=\"Open In Colab\"/></a>"
      ]
    },
    {
      "cell_type": "markdown",
      "source": [
        "**Condicionales y Funciones**\n",
        "\n",
        "Curso Python\n",
        "\n",
        "Unicafam\n",
        "\n",
        "Estudiantes: Katherine Forero\n",
        "\n",
        "Docente: Nicolas Mojica\n",
        "\n",
        "---\n"
      ],
      "metadata": {
        "id": "njadunK5SBen"
      }
    },
    {
      "cell_type": "code",
      "execution_count": null,
      "metadata": {
        "id": "-kHHswjMR0Iy"
      },
      "outputs": [],
      "source": [
        "#Operadores de Comparación\n",
        "'''\n",
        "== igual\n",
        "!= diferente\n",
        "< menor que\n",
        "> mayor que\n",
        "<= menor o igual que\n",
        ">= mayor o igual que\n",
        "'''"
      ]
    },
    {
      "cell_type": "markdown",
      "source": [
        "Generar un programa que determine si una persona es mayor o menor de edad."
      ],
      "metadata": {
        "id": "tgtCqXwKrs0w"
      }
    },
    {
      "cell_type": "code",
      "source": [
        "edad=18\n",
        "if edad>=18:\n",
        "  print('Eres mayor de edad')\n",
        "else:\n",
        "  print('Eres menor de edad')"
      ],
      "metadata": {
        "colab": {
          "base_uri": "https://localhost:8080/"
        },
        "id": "xgZHPf5ikPuj",
        "outputId": "317ed625-0118-4b4d-99fe-f828afff6636"
      },
      "execution_count": 1,
      "outputs": [
        {
          "output_type": "stream",
          "name": "stdout",
          "text": [
            "Eres mayor de edad\n"
          ]
        }
      ]
    },
    {
      "cell_type": "code",
      "source": [
        "#Condiciones anidadas\n",
        "nota=45\n",
        "if nota>=60:\n",
        "  if nota>=90:\n",
        "    print('Calificación alta')\n",
        "  elif nota>=80:\n",
        "    print('Calificación media')\n",
        "  else:\n",
        "    print('Calificación baja')\n",
        "else:\n",
        "  print('No aprobado')"
      ],
      "metadata": {
        "colab": {
          "base_uri": "https://localhost:8080/"
        },
        "id": "vgOZigkYkPn8",
        "outputId": "3a1d40c5-4834-4ff1-b29f-72eee2027913"
      },
      "execution_count": 6,
      "outputs": [
        {
          "output_type": "stream",
          "name": "stdout",
          "text": [
            "No aprobado\n"
          ]
        }
      ]
    },
    {
      "cell_type": "code",
      "source": [],
      "metadata": {
        "id": "KYLyPlNekPfk"
      },
      "execution_count": null,
      "outputs": []
    }
  ]
}